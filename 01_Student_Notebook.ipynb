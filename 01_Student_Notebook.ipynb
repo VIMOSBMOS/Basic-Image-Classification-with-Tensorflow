{
 "cells": [
  {
   "cell_type": "markdown",
   "metadata": {},
   "source": [
    "![Rhyme](https://rhyme.com/assets/img/logo-dark.png)"
   ]
  },
  {
   "cell_type": "markdown",
   "metadata": {},
   "source": [
    "# Task 1: Introduction\n",
    "\n",
    "Welcome to Basic Image Classification with TensorFlow.\n",
    "\n",
    "This graph describes the problem that we are trying to solve visually. We want to create and train a model that takes an image of a hand written digit as input and predicts the class of that digit, that is, it predicts the digit or it predicts the class of the input image.\n",
    "\n",
    "![Hand Written Digits Classification](images/1_1.png)"
   ]
  },
  {
   "cell_type": "markdown",
   "metadata": {},
   "source": [
    "### Import TensorFlow"
   ]
  },
  {
   "cell_type": "code",
   "execution_count": 9,
   "metadata": {},
   "outputs": [
    {
     "name": "stdout",
     "output_type": "stream",
     "text": [
      "Using TensorFlow version 1.13.1\n"
     ]
    }
   ],
   "source": [
    "import tensorflow as tf\n",
    "\n",
    "tf.logging.set_verbosity(tf.logging.ERROR)\n",
    "print('Using TensorFlow version', tf.__version__)"
   ]
  },
  {
   "cell_type": "markdown",
   "metadata": {},
   "source": [
    "# Task 2: The Dataset\n",
    "### Import MNIST"
   ]
  },
  {
   "cell_type": "code",
   "execution_count": 10,
   "metadata": {},
   "outputs": [],
   "source": [
    "from tensorflow.keras.datasets import mnist\n",
    "(x_train, y_train), (x_test, y_test) = mnist.load_data()"
   ]
  },
  {
   "cell_type": "markdown",
   "metadata": {},
   "source": [
    "### Shapes of Imported Arrays"
   ]
  },
  {
   "cell_type": "code",
   "execution_count": 11,
   "metadata": {},
   "outputs": [
    {
     "name": "stdout",
     "output_type": "stream",
     "text": [
      "x_train_shape: (60000, 28, 28)\n",
      "y_train_shape (60000,)\n",
      "x_test shape: (10000, 28, 28)\n",
      "y_test shape: (10000,)\n"
     ]
    }
   ],
   "source": [
    "print('x_train_shape:', x_train.shape)\n",
    "print('y_train_shape', y_train.shape)\n",
    "print('x_test shape:', x_test.shape)\n",
    "print('y_test shape:', y_test.shape)\n",
    "# 60,000 train dataset\n",
    "# 10,000 test dataset"
   ]
  },
  {
   "cell_type": "markdown",
   "metadata": {},
   "source": [
    "### Plot an Image Example"
   ]
  },
  {
   "cell_type": "code",
   "execution_count": 12,
   "metadata": {},
   "outputs": [
    {
     "data": {
      "image/png": "[encoded data removed]",
      "text/plain": [
       "<Figure size 432x288 with 1 Axes>"
      ]
     },
     "metadata": {
      "needs_background": "light"
     },
     "output_type": "display_data"
    }
   ],
   "source": [
    "from matplotlib import pyplot as plt\n",
    "# Display images within notebook\n",
    "%matplotlib inline\n",
    "# First training example\n",
    "plt.imshow(x_train[0], cmap = 'binary')\n",
    "plt.show()"
   ]
  },
  {
   "cell_type": "markdown",
   "metadata": {},
   "source": [
    "### Display Labels"
   ]
  },
  {
   "cell_type": "code",
   "execution_count": 13,
   "metadata": {},
   "outputs": [
    {
     "data": {
      "text/plain": [
       "5"
      ]
     },
     "execution_count": 13,
     "metadata": {},
     "output_type": "execute_result"
    }
   ],
   "source": [
    "# Neural network can learn the various features with the given labels\n",
    "y_train[0]"
   ]
  },
  {
   "cell_type": "code",
   "execution_count": 14,
   "metadata": {},
   "outputs": [
    {
     "name": "stdout",
     "output_type": "stream",
     "text": [
      "{0, 1, 2, 3, 4, 5, 6, 7, 8, 9}\n"
     ]
    }
   ],
   "source": [
    "print(set(y_train))"
   ]
  },
  {
   "cell_type": "markdown",
   "metadata": {},
   "source": [
    "# Task 3: One Hot Encoding\n",
    "After this encoding, every label will be converted to a list with 10 elements and the element at index to the corresponding class will be set to 1, rest will be set to 0:\n",
    "\n",
    "| original label | one-hot encoded label |\n",
    "|------|------|\n",
    "| 5 | [0, 0, 0, 0, 0, 1, 0, 0, 0, 0] |\n",
    "| 7 | [0, 0, 0, 0, 0, 0, 0, 1, 0, 0] |\n",
    "| 1 | [0, 1, 0, 0, 0, 0, 0, 0, 0, 0] |\n",
    "\n",
    "### Encoding Labels"
   ]
  },
  {
   "cell_type": "code",
   "execution_count": 15,
   "metadata": {},
   "outputs": [],
   "source": [
    "# straight forward to do one hot encoding\n",
    "from tensorflow.keras.utils import to_categorical\n",
    "\n",
    "y_train_encoded = to_categorical(y_train)\n",
    "y_test_encoded = to_categorical(y_test)"
   ]
  },
  {
   "cell_type": "markdown",
   "metadata": {},
   "source": [
    "### Validated Shapes"
   ]
  },
  {
   "cell_type": "code",
   "execution_count": 16,
   "metadata": {},
   "outputs": [
    {
     "name": "stdout",
     "output_type": "stream",
     "text": [
      "y_train_encoded_shape (60000, 10)\n",
      "y_test_encoded_shape: (10000, 10)\n"
     ]
    }
   ],
   "source": [
    "print('y_train_encoded_shape', y_train_encoded.shape)\n",
    "print('y_test_encoded_shape:', y_test_encoded.shape)"
   ]
  },
  {
   "cell_type": "markdown",
   "metadata": {},
   "source": [
    "### Display Encoded Labels"
   ]
  },
  {
   "cell_type": "code",
   "execution_count": 17,
   "metadata": {},
   "outputs": [
    {
     "data": {
      "text/plain": [
       "array([0., 0., 0., 0., 0., 1., 0., 0., 0., 0.], dtype=float32)"
      ]
     },
     "execution_count": 17,
     "metadata": {},
     "output_type": "execute_result"
    }
   ],
   "source": [
    "# There is a switch for every class\n",
    "y_train_encoded[0]"
   ]
  },
  {
   "cell_type": "markdown",
   "metadata": {},
   "source": [
    "# Task 4: Neural Networks\n",
    "\n",
    "### Linear Equations\n",
    "\n",
    "![Single Neuron](images/1_2.png)\n",
    "\n",
    "The above graph simply represents the equation:\n",
    "\n",
    "\\begin{equation}\n",
    "y = w1 * x1 + w2 * x2 + w3 * x3 + b\n",
    "\\end{equation}\n",
    "\n",
    "Where the `w1, w2, w3` are called the weights and `b` is an intercept term called bias. The equation can also be *vectorised* like this:\n",
    "\n",
    "\\begin{equation}\n",
    "y = W . X + b\n",
    "\\end{equation}\n",
    "\n",
    "Where `X = [x1, x2, x3]` and `W = [w1, w2, w3].T`. The .T means *transpose*. This is because we want the dot product to give us the result we want i.e. `w1 * x1 + w2 * x2 + w3 * x3`. This gives us the vectorised version of our linear equation.\n",
    "\n",
    "A simple, linear approach to solving hand-written image classification problem - could it work?\n",
    "\n",
    "![Single Neuron with 784 features](images/1_3.png)\n",
    "\n",
    "### Neural Networks\n",
    "\n",
    "![Neural Network with 2 hidden layers](images/1_4.png)\n",
    "\n",
    "This model is much more likely to solve the problem as it can learn more complex function mapping for the inputs and outputs in our dataset."
   ]
  },
  {
   "cell_type": "markdown",
   "metadata": {},
   "source": [
    "# Task 5: Preprocessing the Examples\n",
    "\n",
    "### Unrolling N-dimensional Arrays to Vectors"
   ]
  },
  {
   "cell_type": "code",
   "execution_count": 18,
   "metadata": {},
   "outputs": [
    {
     "name": "stdout",
     "output_type": "stream",
     "text": [
      "x_train_reshaped shape: (60000, 784)\n",
      "x_test_reshaped shape: (10000, 784)\n"
     ]
    }
   ],
   "source": [
    "# Converting the inputs 28x28 into a (784,1) dimentional vector\n",
    "import numpy as np\n",
    "\n",
    "x_train_reshaped = np.reshape (x_train, (60000, 784))\n",
    "x_test_reshaped = np.reshape(x_test, (10000, 784))\n",
    "\n",
    "print('x_train_reshaped shape:', x_train_reshaped.shape)\n",
    "print('x_test_reshaped shape:', x_test_reshaped.shape)"
   ]
  },
  {
   "cell_type": "markdown",
   "metadata": {},
   "source": [
    "### Display Pixel Values"
   ]
  },
  {
   "cell_type": "code",
   "execution_count": 19,
   "metadata": {},
   "outputs": [
    {
     "name": "stdout",
     "output_type": "stream",
     "text": [
      "{0, 1, 2, 3, 9, 11, 14, 16, 18, 23, 24, 25, 26, 27, 30, 35, 36, 39, 43, 45, 46, 49, 55, 56, 64, 66, 70, 78, 80, 81, 82, 90, 93, 94, 107, 108, 114, 119, 126, 127, 130, 132, 133, 135, 136, 139, 148, 150, 154, 156, 160, 166, 170, 171, 172, 175, 182, 183, 186, 187, 190, 195, 198, 201, 205, 207, 212, 213, 219, 221, 225, 226, 229, 238, 240, 241, 242, 244, 247, 249, 250, 251, 252, 253, 255}\n"
     ]
    }
   ],
   "source": [
    "print(set(x_train_reshaped[0])) # Will display pixels values from 0-255"
   ]
  },
  {
   "cell_type": "markdown",
   "metadata": {},
   "source": [
    "### Data Normalization"
   ]
  },
  {
   "cell_type": "code",
   "execution_count": 20,
   "metadata": {},
   "outputs": [],
   "source": [
    "# Neural networks needs values to be normalize to work better\n",
    "x_mean = np.mean(x_train_reshaped)\n",
    "x_std = np.std(x_train_reshaped)\n",
    "\n",
    "epsilon = 1e-10\n",
    "# Reason behind using epsilon ->  a very small value of x_std can lead to unstability in computaton \n",
    "x_train_norm = (x_train_reshaped - x_mean) / (x_std + epsilon)\n",
    "x_test_norm = (x_test_reshaped - x_mean) / (x_std + epsilon)"
   ]
  },
  {
   "cell_type": "markdown",
   "metadata": {},
   "source": [
    "### Display Normalized Pixel Values"
   ]
  },
  {
   "cell_type": "code",
   "execution_count": 21,
   "metadata": {},
   "outputs": [
    {
     "name": "stdout",
     "output_type": "stream",
     "text": [
      "{-0.38589016215482896, 1.306921966983251, 1.17964285952926, 1.803310486053816, 1.6887592893452241, 2.8215433456857437, 2.719720059722551, 1.1923707702746593, 1.7396709323268205, 2.057868700961798, 2.3633385588513764, 2.096052433197995, 1.7651267538176187, 2.7960875241949457, 2.7451758812133495, 2.45243393406917, 0.02140298169794222, -0.22042732246464067, 1.2305545025108566, 0.2759611966059242, 2.210603629906587, 2.6560805059955555, 2.6051688630139593, -0.4240738943910262, 0.4668798577869107, 0.1486820891519332, 0.3905123933145161, 1.0905474843114664, -0.09314821501064967, 1.4851127174188385, 2.7579037919587486, 1.5360243604004349, 0.07231462467953861, -0.13133194724684696, 1.294194056237852, 0.03413089244334132, 1.3451056992194483, 2.274243183633583, -0.24588314395543887, 0.772349715676489, 0.75962180493109, 0.7214380726948927, 0.1995937321335296, -0.41134598364562713, 0.5687031437501034, 0.5941589652409017, 0.9378125553666773, 0.9505404661120763, 0.6068868759863008, 0.4159682148053143, -0.042236572029053274, 2.7706317027041476, 2.1342361654341926, 0.12322626766113501, -0.08042030426525057, 0.16140999989733232, 1.8924058612716097, 1.2560103240016547, 2.185147808415789, 0.6196147867316999, 1.943317504253206, -0.11860403650144787, -0.30952269768243434, 1.9942291472348024, -0.2840668761916362, 2.6306246845047574, 2.286971094378982, -0.19497150097384247, -0.39861807290022805, 0.2886891073513233, 1.7523988430722195, 2.3887943803421745, 2.681536327486354, 1.4596568959280403, 2.439706023323771, 2.7833596134495466, 2.490617666305367, -0.10587612575604877, 1.5614801818912332, 1.9051337720170087, 1.6123918248728295, 1.268738234747054, 1.9560454149986053, 2.6433525952501564, 1.026907930584471}\n"
     ]
    }
   ],
   "source": [
    "print(set(x_train_norm[0]))"
   ]
  },
  {
   "cell_type": "markdown",
   "metadata": {},
   "source": [
    "# Task 6: Creating a Model\n",
    "### Creating the Model"
   ]
  },
  {
   "cell_type": "code",
   "execution_count": 22,
   "metadata": {},
   "outputs": [],
   "source": [
    "# All nodes will be connected to the preceding layer\n",
    "from tensorflow.keras.models import Sequential\n",
    "from tensorflow.keras.layers import Dense\n",
    " # 2 hidden layers\n",
    "model = Sequential([\n",
    "Dense(128, activation = 'relu', input_shape = (784,)),\n",
    "Dense(128, activation = 'relu'),\n",
    "Dense(10, activation = 'softmax')\n",
    "])"
   ]
  },
  {
   "cell_type": "markdown",
   "metadata": {},
   "source": [
    "### Activation Functions\n",
    "\n",
    "The first step in the node is the linear sum of the inputs:\n",
    "\\begin{equation}\n",
    "Z = W . X + b\n",
    "\\end{equation}\n",
    "\n",
    "The second step in the node is the activation function output:\n",
    "\n",
    "\\begin{equation}\n",
    "A = f(Z)\n",
    "\\end{equation}\n",
    "\n",
    "Graphical representation of a node where the two operations are performed:\n",
    "\n",
    "![ReLU](images/1_5.png)\n",
    "\n",
    "ReLU is a simple linear fuction for all the positive values. Set to zero for all the negative values\n",
    "Softmax gives the probablity scores for the various nodes. Probability scores sum up to 1. \n",
    "Algorithm to be used should be decided.\n",
    "\n",
    "### Compiling the Model"
   ]
  },
  {
   "cell_type": "code",
   "execution_count": 23,
   "metadata": {},
   "outputs": [
    {
     "name": "stdout",
     "output_type": "stream",
     "text": [
      "_________________________________________________________________\n",
      "Layer (type)                 Output Shape              Param #   \n",
      "=================================================================\n",
      "dense_3 (Dense)              (None, 128)               100480    \n",
      "_________________________________________________________________\n",
      "dense_4 (Dense)              (None, 128)               16512     \n",
      "_________________________________________________________________\n",
      "dense_5 (Dense)              (None, 10)                1290      \n",
      "=================================================================\n",
      "Total params: 118,282\n",
      "Trainable params: 118,282\n",
      "Non-trainable params: 0\n",
      "_________________________________________________________________\n"
     ]
    }
   ],
   "source": [
    "model.compile(\n",
    "optimizer = 'sgd',# stocastic gradient descent\n",
    "loss = 'categorical_crossentropy',# difference betwen the predicted o/p and the actual o/p.Value should be less\n",
    "metrics = ['accuracy'] # metric is function used to judge the perfomance of the model\n",
    ")\n",
    "\n",
    "model.summary()\n",
    "# dense -> 128 x 725 = 100480\n",
    "# dense_1 -> (128 x 128) + 128 = 16512\n",
    "# dense_2 -> (128 X 10) + 10 = 1290\n",
    "# the (+) values are biases"
   ]
  },
  {
   "cell_type": "markdown",
   "metadata": {},
   "source": [
    "# Task 7: Training the Model\n",
    "\n",
    "### Training the Model"
   ]
  },
  {
   "cell_type": "code",
   "execution_count": 26,
   "metadata": {},
   "outputs": [
    {
     "name": "stdout",
     "output_type": "stream",
     "text": [
      "Epoch 1/50\n",
      "60000/60000 [==============================] - 9s 158us/sample - loss: 0.0568 - acc: 0.9839\n",
      "Epoch 2/50\n",
      "60000/60000 [==============================] - 7s 113us/sample - loss: 0.0510 - acc: 0.9860\n",
      "Epoch 3/50\n",
      "60000/60000 [==============================] - 7s 110us/sample - loss: 0.0460 - acc: 0.9870\n",
      "Epoch 4/50\n",
      "60000/60000 [==============================] - 7s 111us/sample - loss: 0.0415 - acc: 0.9886\n",
      "Epoch 5/50\n",
      "60000/60000 [==============================] - 7s 113us/sample - loss: 0.0371 - acc: 0.9899\n",
      "Epoch 6/50\n",
      "60000/60000 [==============================] - 7s 113us/sample - loss: 0.0337 - acc: 0.9911\n",
      "Epoch 7/50\n",
      "60000/60000 [==============================] - 6s 108us/sample - loss: 0.0306 - acc: 0.9921\n",
      "Epoch 8/50\n",
      "60000/60000 [==============================] - 7s 111us/sample - loss: 0.0277 - acc: 0.9929\n",
      "Epoch 9/50\n",
      "60000/60000 [==============================] - 7s 113us/sample - loss: 0.0250 - acc: 0.9940\n",
      "Epoch 10/50\n",
      "60000/60000 [==============================] - 7s 112us/sample - loss: 0.0226 - acc: 0.9949\n",
      "Epoch 11/50\n",
      "60000/60000 [==============================] - 7s 116us/sample - loss: 0.0205 - acc: 0.9955\n",
      "Epoch 12/50\n",
      "60000/60000 [==============================] - 7s 115us/sample - loss: 0.0186 - acc: 0.9962\n",
      "Epoch 13/50\n",
      "60000/60000 [==============================] - 7s 113us/sample - loss: 0.0168 - acc: 0.9967\n",
      "Epoch 14/50\n",
      "60000/60000 [==============================] - 7s 114us/sample - loss: 0.0152 - acc: 0.9972\n",
      "Epoch 15/50\n",
      "60000/60000 [==============================] - 8s 134us/sample - loss: 0.0138 - acc: 0.9978\n",
      "Epoch 16/50\n",
      "60000/60000 [==============================] - 7s 117us/sample - loss: 0.0126 - acc: 0.9980\n",
      "Epoch 17/50\n",
      "60000/60000 [==============================] - 10s 174us/sample - loss: 0.0115 - acc: 0.9984\n",
      "Epoch 18/50\n",
      "60000/60000 [==============================] - 8s 125us/sample - loss: 0.0104 - acc: 0.9988\n",
      "Epoch 19/50\n",
      "60000/60000 [==============================] - 7s 121us/sample - loss: 0.0096 - acc: 0.9991\n",
      "Epoch 20/50\n",
      "60000/60000 [==============================] - 7s 118us/sample - loss: 0.0087 - acc: 0.9993\n",
      "Epoch 21/50\n",
      "60000/60000 [==============================] - 7s 118us/sample - loss: 0.0082 - acc: 0.9993\n",
      "Epoch 22/50\n",
      "60000/60000 [==============================] - 7s 117us/sample - loss: 0.0074 - acc: 0.9994\n",
      "Epoch 23/50\n",
      "60000/60000 [==============================] - 7s 116us/sample - loss: 0.0069 - acc: 0.9996\n",
      "Epoch 24/50\n",
      "60000/60000 [==============================] - 8s 125us/sample - loss: 0.0063 - acc: 0.9996\n",
      "Epoch 25/50\n",
      "60000/60000 [==============================] - 8s 127us/sample - loss: 0.0058 - acc: 0.9997\n",
      "Epoch 26/50\n",
      "60000/60000 [==============================] - 8s 137us/sample - loss: 0.0054 - acc: 0.9997\n",
      "Epoch 27/50\n",
      "60000/60000 [==============================] - 8s 129us/sample - loss: 0.0051 - acc: 0.9997\n",
      "Epoch 28/50\n",
      "60000/60000 [==============================] - 8s 125us/sample - loss: 0.0048 - acc: 0.9998\n",
      "Epoch 29/50\n",
      "60000/60000 [==============================] - 7s 122us/sample - loss: 0.0045 - acc: 0.9998\n",
      "Epoch 30/50\n",
      "60000/60000 [==============================] - 7s 123us/sample - loss: 0.0042 - acc: 0.9998\n",
      "Epoch 31/50\n",
      "60000/60000 [==============================] - 7s 122us/sample - loss: 0.0040 - acc: 0.9999\n",
      "Epoch 32/50\n",
      "60000/60000 [==============================] - 7s 117us/sample - loss: 0.0037 - acc: 0.9999\n",
      "Epoch 33/50\n",
      "60000/60000 [==============================] - 7s 122us/sample - loss: 0.0036 - acc: 0.9999\n",
      "Epoch 34/50\n",
      "60000/60000 [==============================] - 8s 128us/sample - loss: 0.0034 - acc: 0.9999\n",
      "Epoch 35/50\n",
      "60000/60000 [==============================] - 8s 140us/sample - loss: 0.0033 - acc: 0.9999\n",
      "Epoch 36/50\n",
      "60000/60000 [==============================] - 8s 140us/sample - loss: 0.0031 - acc: 0.9999\n",
      "Epoch 37/50\n",
      "60000/60000 [==============================] - 8s 138us/sample - loss: 0.0030 - acc: 0.9999\n",
      "Epoch 38/50\n",
      "60000/60000 [==============================] - 8s 138us/sample - loss: 0.0028 - acc: 0.9999\n",
      "Epoch 39/50\n",
      "60000/60000 [==============================] - 8s 133us/sample - loss: 0.0027 - acc: 0.9999\n",
      "Epoch 40/50\n",
      "60000/60000 [==============================] - 8s 132us/sample - loss: 0.0026 - acc: 1.0000\n",
      "Epoch 41/50\n",
      "60000/60000 [==============================] - 7s 124us/sample - loss: 0.0025 - acc: 0.9999\n",
      "Epoch 42/50\n",
      "60000/60000 [==============================] - 8s 130us/sample - loss: 0.0024 - acc: 1.0000\n",
      "Epoch 43/50\n",
      "60000/60000 [==============================] - 8s 135us/sample - loss: 0.0023 - acc: 1.0000\n",
      "Epoch 44/50\n",
      "60000/60000 [==============================] - 8s 127us/sample - loss: 0.0022 - acc: 1.0000\n",
      "Epoch 45/50\n",
      "60000/60000 [==============================] - 8s 133us/sample - loss: 0.0022 - acc: 1.0000\n",
      "Epoch 46/50\n",
      "60000/60000 [==============================] - 8s 129us/sample - loss: 0.0021 - acc: 1.0000\n",
      "Epoch 47/50\n",
      "60000/60000 [==============================] - 8s 128us/sample - loss: 0.0020 - acc: 1.0000\n",
      "Epoch 48/50\n",
      "60000/60000 [==============================] - 7s 124us/sample - loss: 0.0020 - acc: 1.0000\n",
      "Epoch 49/50\n",
      "60000/60000 [==============================] - 8s 134us/sample - loss: 0.0019 - acc: 1.0000\n",
      "Epoch 50/50\n",
      "60000/60000 [==============================] - 9s 142us/sample - loss: 0.0019 - acc: 1.0000\n"
     ]
    },
    {
     "data": {
      "text/plain": [
       "<tensorflow.python.keras.callbacks.History at 0x7f84bc6026a0>"
      ]
     },
     "execution_count": 26,
     "metadata": {},
     "output_type": "execute_result"
    }
   ],
   "source": [
    "# epoch - going through all the training examples 'n'(3) times\n",
    "model.fit(x_train_norm, y_train_encoded, epochs = 50)"
   ]
  },
  {
   "cell_type": "markdown",
   "metadata": {},
   "source": [
    "### Evaluating the Model"
   ]
  },
  {
   "cell_type": "code",
   "execution_count": 27,
   "metadata": {},
   "outputs": [
    {
     "name": "stdout",
     "output_type": "stream",
     "text": [
      "10000/10000 [==============================] - 1s 90us/sample - loss: 0.0889 - acc: 0.9786\n",
      "Test set accuracy: 97.8600025177002\n"
     ]
    }
   ],
   "source": [
    "# no training step here. The 'evaluate' method does a forward pass and compares with the y_test_encoded labels\n",
    "_, accuracy = model.evaluate(x_test_norm, y_test_encoded)\n",
    "print('Test set accuracy:', accuracy * 100)"
   ]
  },
  {
   "cell_type": "markdown",
   "metadata": {},
   "source": [
    "# Task 8: Predictions\n",
    "\n",
    "### Predictions on Test Set"
   ]
  },
  {
   "cell_type": "code",
   "execution_count": 28,
   "metadata": {},
   "outputs": [
    {
     "name": "stdout",
     "output_type": "stream",
     "text": [
      "Shape of preds: (10000, 10)\n"
     ]
    }
   ],
   "source": [
    "preds = model.predict(x_test_norm)\n",
    "print('Shape of preds:', preds.shape)"
   ]
  },
  {
   "cell_type": "markdown",
   "metadata": {},
   "source": [
    "### Plotting the Results"
   ]
  },
  {
   "cell_type": "code",
   "execution_count": 43,
   "metadata": {},
   "outputs": [
    {
     "data": {
      "image/png": "[encoded data removed]",
      "text/plain": [
       "<Figure size 864x864 with 25 Axes>"
      ]
     },
     "metadata": {},
     "output_type": "display_data"
    }
   ],
   "source": [
    "# plotting the first few predictions with the actual labels\n",
    "plt.figure(figsize = (12,12))\n",
    "\n",
    "start_index = 0\n",
    "\n",
    "for i in range(25): # 25 examples at a time\n",
    "    plt.subplot(5, 5, i+1)\n",
    "    plt.grid(False)\n",
    "    plt.xticks([])\n",
    "    plt.yticks([])\n",
    "    # need the highest value predicted\n",
    "    pred = np.argmax(preds[start_index+i])\n",
    "    ground_truth = y_test[start_index+i]\n",
    "    \n",
    "    col = 'g'\n",
    "    if pred != ground_truth:\n",
    "        col = 'r'\n",
    "    plt.xlabel('i={}, pred = {}, gt = {}'.format(start_index+i, pred, ground_truth),color = col)\n",
    "    plt.imshow(x_test[start_index+i], cmap = 'binary')"
   ]
  },
  {
   "cell_type": "code",
   "execution_count": 44,
   "metadata": {},
   "outputs": [
    {
     "data": {
      "image/png": "[encoded data removed]",
      "text/plain": [
       "<Figure size 432x288 with 1 Axes>"
      ]
     },
     "metadata": {
      "needs_background": "light"
     },
     "output_type": "display_data"
    }
   ],
   "source": [
    "plt.plot(preds[8])\n",
    "plt.show()"
   ]
  },
  {
   "cell_type": "code",
   "execution_count": null,
   "metadata": {},
   "outputs": [],
   "source": []
  }
 ],
 "metadata": {
  "kernelspec": {
   "display_name": "Python 3",
   "language": "python",
   "name": "python3"
  },
  "language_info": {
   "codemirror_mode": {
    "name": "ipython",
    "version": 3
   },
   "file_extension": ".py",
   "mimetype": "text/x-python",
   "name": "python",
   "nbconvert_exporter": "python",
   "pygments_lexer": "ipython3",
   "version": "3.7.3"
  }
 },
 "nbformat": 4,
 "nbformat_minor": 2
}
